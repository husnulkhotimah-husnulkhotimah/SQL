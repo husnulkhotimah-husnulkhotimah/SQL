{
  "nbformat": 4,
  "nbformat_minor": 0,
  "metadata": {
    "colab": {
      "provenance": [],
      "authorship_tag": "ABX9TyPMQ5RQWkwXslBDZRddtFt8",
      "include_colab_link": true
    },
    "kernelspec": {
      "name": "python3",
      "display_name": "Python 3"
    },
    "language_info": {
      "name": "python"
    }
  },
  "cells": [
    {
      "cell_type": "markdown",
      "metadata": {
        "id": "view-in-github",
        "colab_type": "text"
      },
      "source": [
        "<a href=\"https://colab.research.google.com/github/husnulkhotimah-husnulkhotimah/SQL/blob/main/SQL.ipynb\" target=\"_parent\"><img src=\"https://colab.research.google.com/assets/colab-badge.svg\" alt=\"Open In Colab\"/></a>"
      ]
    },
    {
      "cell_type": "code",
      "execution_count": null,
      "metadata": {
        "colab": {
          "base_uri": "https://localhost:8080/"
        },
        "id": "tKUNv7I2VUqC",
        "outputId": "fba8f495-d67a-47cd-c074-634885dacc8c"
      },
      "outputs": [
        {
          "output_type": "stream",
          "name": "stdout",
          "text": [
            "Looking in indexes: https://pypi.org/simple, https://us-python.pkg.dev/colab-wheels/public/simple/\n",
            "Collecting mysql-connector\n",
            "  Downloading mysql-connector-2.2.9.tar.gz (11.9 MB)\n",
            "\u001b[2K     \u001b[90m━━━━━━━━━━━━━━━━━━━━━━━━━━━━━━━━━━━━━━━━\u001b[0m \u001b[32m11.9/11.9 MB\u001b[0m \u001b[31m62.7 MB/s\u001b[0m eta \u001b[36m0:00:00\u001b[0m\n",
            "\u001b[?25h  Preparing metadata (setup.py) ... \u001b[?25l\u001b[?25hdone\n",
            "Building wheels for collected packages: mysql-connector\n",
            "  Building wheel for mysql-connector (setup.py) ... \u001b[?25l\u001b[?25hdone\n",
            "  Created wheel for mysql-connector: filename=mysql_connector-2.2.9-cp38-cp38-linux_x86_64.whl size=247965 sha256=bbd60989d80a09932c6f32d3ab364192470ad571b7ad4ed14c207d5c256a6160\n",
            "  Stored in directory: /root/.cache/pip/wheels/57/e4/98/5feafb5c393dd2540e44b064a6f95832990d543e5b4f53ea8f\n",
            "Successfully built mysql-connector\n",
            "Installing collected packages: mysql-connector\n",
            "Successfully installed mysql-connector-2.2.9\n"
          ]
        }
      ],
      "source": [
        "!pip3 install mysql-connector"
      ]
    },
    {
      "cell_type": "code",
      "source": [
        "import warnings\n",
        "warnings.filterwarnings('ignore')\n",
        "\n",
        "from sqlalchemy import create_engine\n",
        "\n",
        "import numpy as np\n",
        "import pandas as pd"
      ],
      "metadata": {
        "id": "0Dda4YfzcqdE"
      },
      "execution_count": null,
      "outputs": []
    },
    {
      "cell_type": "code",
      "source": [
        "username = 'guest'\n",
        "password = 'relational'\n",
        "host = 'relational.fit.cvut.cz'\n",
        "port = '3306'\n",
        "database = 'restbase'\n",
        "\n",
        "engine = create_engine(f\"mysql+mysqlconnector://{username}:{password}@{host}/{database}\")"
      ],
      "metadata": {
        "id": "LyeYLr8ekzsO"
      },
      "execution_count": null,
      "outputs": []
    },
    {
      "cell_type": "code",
      "source": [
        "def querying(query, engine):\n",
        "    df = pd.read_sql(query, engine)\n",
        "    return df"
      ],
      "metadata": {
        "id": "BqCz7EmOl33L"
      },
      "execution_count": null,
      "outputs": []
    },
    {
      "cell_type": "code",
      "source": [
        "query='''\n",
        "       show tables\n",
        "      '''\n",
        "\n",
        "tables = querying(query, engine)\n",
        "\n",
        "for i in tables['Tables_in_restbase']:\n",
        "  query='''\n",
        "      select * from ''' + i + '''\n",
        "      limit 5\n",
        "\n",
        "  '''\n",
        "\n",
        "  print('TABLE:', i)\n",
        "  print(querying(query, engine))\n",
        "  print()"
      ],
      "metadata": {
        "id": "QFFyVSwUqn_0",
        "colab": {
          "base_uri": "https://localhost:8080/"
        },
        "outputId": "2d325213-f45f-4398-f2ad-e52f5f628ca8"
      },
      "execution_count": null,
      "outputs": [
        {
          "output_type": "stream",
          "name": "stdout",
          "text": [
            "TABLE: generalinfo\n",
            "   id_restaurant                 label      food_type           city  review\n",
            "0              1        sparky's diner  24 hour diner  san francisco     2.3\n",
            "1              2  kabul afghan cuisine        afghani     san carlos     3.8\n",
            "2              3    helmand restaurant        afghani  san francisco     4.0\n",
            "3              4         afghani house        afghani      sunnyvale     3.6\n",
            "4              5   kabul afghan cusine        afghani      sunnyvale     3.7\n",
            "\n",
            "TABLE: geographic\n",
            "              city               county    region\n",
            "0          alameda       alameda county  bay area\n",
            "1            alamo  contra costa county  bay area\n",
            "2           albany       alameda county  bay area\n",
            "3           alviso   santa clara county  bay area\n",
            "4  american canyon              unknown  bay area\n",
            "\n",
            "TABLE: location\n",
            "   id_restaurant  street_num        street_name           city\n",
            "0              1         242          church st  san francisco\n",
            "1              2         135     el camino real     san carlos\n",
            "2              3         430           broadway  san francisco\n",
            "3              4        1103  e. el camino real      sunnyvale\n",
            "4              5         833  w. el camino real      sunnyvale\n",
            "\n"
          ]
        }
      ]
    },
    {
      "cell_type": "code",
      "source": [
        "# select table\n",
        "query='''\n",
        "    SELECT * FROM generalinfo\n",
        "'''\n",
        "\n",
        "df = querying(query, engine)"
      ],
      "metadata": {
        "id": "Etp8Q82soB7U"
      },
      "execution_count": null,
      "outputs": []
    },
    {
      "cell_type": "code",
      "source": [
        "df.info()"
      ],
      "metadata": {
        "colab": {
          "base_uri": "https://localhost:8080/"
        },
        "id": "JUANxNPsoJhK",
        "outputId": "3482ad30-84e6-46b1-cce8-d2b472e7efca"
      },
      "execution_count": null,
      "outputs": [
        {
          "output_type": "stream",
          "name": "stdout",
          "text": [
            "<class 'pandas.core.frame.DataFrame'>\n",
            "RangeIndex: 9590 entries, 0 to 9589\n",
            "Data columns (total 5 columns):\n",
            " #   Column         Non-Null Count  Dtype  \n",
            "---  ------         --------------  -----  \n",
            " 0   id_restaurant  9590 non-null   int64  \n",
            " 1   label          9590 non-null   object \n",
            " 2   food_type      9590 non-null   object \n",
            " 3   city           9590 non-null   object \n",
            " 4   review         9590 non-null   float64\n",
            "dtypes: float64(1), int64(1), object(3)\n",
            "memory usage: 374.7+ KB\n"
          ]
        }
      ]
    },
    {
      "cell_type": "code",
      "source": [
        "# cek 5 data pertama\n",
        "query='''\n",
        "    SELECT * FROM generalinfo\n",
        "    LIMIT 5\n",
        "'''\n",
        "\n",
        "querying(query, engine)"
      ],
      "metadata": {
        "id": "PqhOLlpZpnU9",
        "outputId": "b8df66f1-bc43-4574-9742-612983ab780e",
        "colab": {
          "base_uri": "https://localhost:8080/",
          "height": 206
        }
      },
      "execution_count": null,
      "outputs": [
        {
          "output_type": "execute_result",
          "data": {
            "text/plain": [
              "   id_restaurant                 label      food_type           city  review\n",
              "0              1        sparky's diner  24 hour diner  san francisco     2.3\n",
              "1              2  kabul afghan cuisine        afghani     san carlos     3.8\n",
              "2              3    helmand restaurant        afghani  san francisco     4.0\n",
              "3              4         afghani house        afghani      sunnyvale     3.6\n",
              "4              5   kabul afghan cusine        afghani      sunnyvale     3.7"
            ],
            "text/html": [
              "\n",
              "  <div id=\"df-1ba8cdbd-09c4-4a88-83b0-9e8cdf6c5639\">\n",
              "    <div class=\"colab-df-container\">\n",
              "      <div>\n",
              "<style scoped>\n",
              "    .dataframe tbody tr th:only-of-type {\n",
              "        vertical-align: middle;\n",
              "    }\n",
              "\n",
              "    .dataframe tbody tr th {\n",
              "        vertical-align: top;\n",
              "    }\n",
              "\n",
              "    .dataframe thead th {\n",
              "        text-align: right;\n",
              "    }\n",
              "</style>\n",
              "<table border=\"1\" class=\"dataframe\">\n",
              "  <thead>\n",
              "    <tr style=\"text-align: right;\">\n",
              "      <th></th>\n",
              "      <th>id_restaurant</th>\n",
              "      <th>label</th>\n",
              "      <th>food_type</th>\n",
              "      <th>city</th>\n",
              "      <th>review</th>\n",
              "    </tr>\n",
              "  </thead>\n",
              "  <tbody>\n",
              "    <tr>\n",
              "      <th>0</th>\n",
              "      <td>1</td>\n",
              "      <td>sparky's diner</td>\n",
              "      <td>24 hour diner</td>\n",
              "      <td>san francisco</td>\n",
              "      <td>2.3</td>\n",
              "    </tr>\n",
              "    <tr>\n",
              "      <th>1</th>\n",
              "      <td>2</td>\n",
              "      <td>kabul afghan cuisine</td>\n",
              "      <td>afghani</td>\n",
              "      <td>san carlos</td>\n",
              "      <td>3.8</td>\n",
              "    </tr>\n",
              "    <tr>\n",
              "      <th>2</th>\n",
              "      <td>3</td>\n",
              "      <td>helmand restaurant</td>\n",
              "      <td>afghani</td>\n",
              "      <td>san francisco</td>\n",
              "      <td>4.0</td>\n",
              "    </tr>\n",
              "    <tr>\n",
              "      <th>3</th>\n",
              "      <td>4</td>\n",
              "      <td>afghani house</td>\n",
              "      <td>afghani</td>\n",
              "      <td>sunnyvale</td>\n",
              "      <td>3.6</td>\n",
              "    </tr>\n",
              "    <tr>\n",
              "      <th>4</th>\n",
              "      <td>5</td>\n",
              "      <td>kabul afghan cusine</td>\n",
              "      <td>afghani</td>\n",
              "      <td>sunnyvale</td>\n",
              "      <td>3.7</td>\n",
              "    </tr>\n",
              "  </tbody>\n",
              "</table>\n",
              "</div>\n",
              "      <button class=\"colab-df-convert\" onclick=\"convertToInteractive('df-1ba8cdbd-09c4-4a88-83b0-9e8cdf6c5639')\"\n",
              "              title=\"Convert this dataframe to an interactive table.\"\n",
              "              style=\"display:none;\">\n",
              "        \n",
              "  <svg xmlns=\"http://www.w3.org/2000/svg\" height=\"24px\"viewBox=\"0 0 24 24\"\n",
              "       width=\"24px\">\n",
              "    <path d=\"M0 0h24v24H0V0z\" fill=\"none\"/>\n",
              "    <path d=\"M18.56 5.44l.94 2.06.94-2.06 2.06-.94-2.06-.94-.94-2.06-.94 2.06-2.06.94zm-11 1L8.5 8.5l.94-2.06 2.06-.94-2.06-.94L8.5 2.5l-.94 2.06-2.06.94zm10 10l.94 2.06.94-2.06 2.06-.94-2.06-.94-.94-2.06-.94 2.06-2.06.94z\"/><path d=\"M17.41 7.96l-1.37-1.37c-.4-.4-.92-.59-1.43-.59-.52 0-1.04.2-1.43.59L10.3 9.45l-7.72 7.72c-.78.78-.78 2.05 0 2.83L4 21.41c.39.39.9.59 1.41.59.51 0 1.02-.2 1.41-.59l7.78-7.78 2.81-2.81c.8-.78.8-2.07 0-2.86zM5.41 20L4 18.59l7.72-7.72 1.47 1.35L5.41 20z\"/>\n",
              "  </svg>\n",
              "      </button>\n",
              "      \n",
              "  <style>\n",
              "    .colab-df-container {\n",
              "      display:flex;\n",
              "      flex-wrap:wrap;\n",
              "      gap: 12px;\n",
              "    }\n",
              "\n",
              "    .colab-df-convert {\n",
              "      background-color: #E8F0FE;\n",
              "      border: none;\n",
              "      border-radius: 50%;\n",
              "      cursor: pointer;\n",
              "      display: none;\n",
              "      fill: #1967D2;\n",
              "      height: 32px;\n",
              "      padding: 0 0 0 0;\n",
              "      width: 32px;\n",
              "    }\n",
              "\n",
              "    .colab-df-convert:hover {\n",
              "      background-color: #E2EBFA;\n",
              "      box-shadow: 0px 1px 2px rgba(60, 64, 67, 0.3), 0px 1px 3px 1px rgba(60, 64, 67, 0.15);\n",
              "      fill: #174EA6;\n",
              "    }\n",
              "\n",
              "    [theme=dark] .colab-df-convert {\n",
              "      background-color: #3B4455;\n",
              "      fill: #D2E3FC;\n",
              "    }\n",
              "\n",
              "    [theme=dark] .colab-df-convert:hover {\n",
              "      background-color: #434B5C;\n",
              "      box-shadow: 0px 1px 3px 1px rgba(0, 0, 0, 0.15);\n",
              "      filter: drop-shadow(0px 1px 2px rgba(0, 0, 0, 0.3));\n",
              "      fill: #FFFFFF;\n",
              "    }\n",
              "  </style>\n",
              "\n",
              "      <script>\n",
              "        const buttonEl =\n",
              "          document.querySelector('#df-1ba8cdbd-09c4-4a88-83b0-9e8cdf6c5639 button.colab-df-convert');\n",
              "        buttonEl.style.display =\n",
              "          google.colab.kernel.accessAllowed ? 'block' : 'none';\n",
              "\n",
              "        async function convertToInteractive(key) {\n",
              "          const element = document.querySelector('#df-1ba8cdbd-09c4-4a88-83b0-9e8cdf6c5639');\n",
              "          const dataTable =\n",
              "            await google.colab.kernel.invokeFunction('convertToInteractive',\n",
              "                                                     [key], {});\n",
              "          if (!dataTable) return;\n",
              "\n",
              "          const docLinkHtml = 'Like what you see? Visit the ' +\n",
              "            '<a target=\"_blank\" href=https://colab.research.google.com/notebooks/data_table.ipynb>data table notebook</a>'\n",
              "            + ' to learn more about interactive tables.';\n",
              "          element.innerHTML = '';\n",
              "          dataTable['output_type'] = 'display_data';\n",
              "          await google.colab.output.renderOutput(dataTable, element);\n",
              "          const docLink = document.createElement('div');\n",
              "          docLink.innerHTML = docLinkHtml;\n",
              "          element.appendChild(docLink);\n",
              "        }\n",
              "      </script>\n",
              "    </div>\n",
              "  </div>\n",
              "  "
            ]
          },
          "metadata": {},
          "execution_count": 10
        }
      ]
    }
  ]
}